{
 "cells": [
  {
   "cell_type": "markdown",
   "id": "67b8f6cb",
   "metadata": {},
   "source": [
    "### Alumna: Ailen Panigo\n",
    "\n",
    "# PARTE 1\n",
    "\n",
    "\n",
    "### Enunciado asignado:\n",
    "\n",
    "**Enunciado 5:** dado el archivo de registros de jugadas (eventos) de MemPy, mostrar un gráfico con los usuarios que más veces jugaron el juego (independientemente del resultado de la partida)."
   ]
  },
  {
   "cell_type": "code",
   "execution_count": null,
   "id": "e5f07326",
   "metadata": {},
   "outputs": [],
   "source": [
    "import pandas as pd\n",
    "from matplotlib import pyplot as plt\n",
    "%matplotlib inline"
   ]
  },
  {
   "cell_type": "code",
   "execution_count": null,
   "id": "1ca5630c",
   "metadata": {},
   "outputs": [],
   "source": [
    "archivo = 'datos_partidas.csv'\n",
    "partidas = pd.read_csv(archivo, encoding='utf-8')\n",
    "partidas"
   ]
  },
  {
   "cell_type": "markdown",
   "id": "60c6e197",
   "metadata": {},
   "source": [
    "Para poder conocer cuantas veces jugo cada usuario, tengo que saber la cantidad de veces que iniciaron una partida"
   ]
  },
  {
   "cell_type": "code",
   "execution_count": null,
   "id": "ccfddeab",
   "metadata": {},
   "outputs": [],
   "source": [
    "partidas_comenzadas = partidas[partidas['Nombre evento']=='inicio_partida']\n",
    "partidas_comenzadas"
   ]
  },
  {
   "cell_type": "code",
   "execution_count": null,
   "id": "9f2f79cb",
   "metadata": {},
   "outputs": [],
   "source": [
    "partidas_por_usuario = partidas_comenzadas.groupby(['Usuarie - nick'])['Partida'].count() # Cuento las partidas por usuario\n",
    "partidas_por_usuario"
   ]
  },
  {
   "cell_type": "code",
   "execution_count": null,
   "id": "ee7364e8",
   "metadata": {},
   "outputs": [],
   "source": [
    "partidas_por_usuario = partidas_por_usuario.sort_values(ascending=False).head() # Ordeno las partidas y tomo los primeros 5\n",
    "partidas_por_usuario"
   ]
  },
  {
   "cell_type": "code",
   "execution_count": null,
   "id": "d979bd48",
   "metadata": {
    "scrolled": true
   },
   "outputs": [],
   "source": [
    "# Representación simplificada del grafico\n",
    "partidas_por_usuario.plot(kind='pie')"
   ]
  },
  {
   "cell_type": "code",
   "execution_count": null,
   "id": "c18039ba",
   "metadata": {},
   "outputs": [],
   "source": [
    "partidas_por_usuario.index"
   ]
  },
  {
   "cell_type": "code",
   "execution_count": null,
   "id": "d82aaede",
   "metadata": {},
   "outputs": [],
   "source": [
    "# Quiero que los colores del pie sean todos tonalidades pastel\n",
    "# Tome los valores RGB de los colores desde internet\n",
    "\n",
    "colores = ['#FFABAB','#C7CEEA','#92B1B6','#E7FFAC','#FFF5BA']"
   ]
  },
  {
   "cell_type": "code",
   "execution_count": null,
   "id": "5e168e4e",
   "metadata": {},
   "outputs": [],
   "source": [
    "# Representación detallada del grafico tipo pie (muestra un porcentaje de la cantidad de partidas jugadas por cada usuarie en base al total de los que mas jugaron a MemPy)\n",
    "\n",
    "etiquetas = partidas_por_usuario.index # Dato de tipo index con una lista con todos los valores de los indices\n",
    "valores = ([partidas_por_usuario[x] for x in etiquetas]) # Cant. partidas por usuarie --> datos en los que se basa el grafico\n",
    "explode = [0.05 for x in range(len(etiquetas))]\n",
    "#explode = tuple(explode)\n",
    "\n",
    "plt.pie(valores, explode=explode, labels=etiquetas, autopct='%1.1f%%', shadow=True, labeldistance=1.1, colors=colores)\n",
    "\n",
    "plt.axis('equal')\n",
    "plt.legend(etiquetas)\n",
    "plt.title('Usuarios de MemPy que mas partidas jugaron')\n",
    "\n",
    "plt.savefig('usuarios_mas_partidas_pie.png', format=\"png\") # Guardo el grafico en un archivo con formato png\n",
    "\n",
    "plt.show()"
   ]
  },
  {
   "cell_type": "code",
   "execution_count": null,
   "id": "1b33cf4d",
   "metadata": {},
   "outputs": [],
   "source": [
    "# Representacion detallada del grafico tipo bar\n",
    "\n",
    "plt.bar(etiquetas, height=valores, width=0.8, color=colores, edgecolor=\"#AAAAAA\")\n",
    "\n",
    "plt.title('Usuarios de MemPy que mas partidas jugaron')\n",
    "plt.xlabel('Usuarios')\n",
    "plt.ylabel('Partidas ganadas')\n",
    "\n",
    "plt.savefig('usuarios_mas_partidas_bar.png', format='png')\n",
    "\n",
    "plt.show()"
   ]
  },
  {
   "cell_type": "markdown",
   "id": "5f75da09",
   "metadata": {},
   "source": [
    "# PARTE 2\n",
    "\n",
    "**DATASET:** Ventas de videojuegos\n",
    "\n",
    "**CRITERIO:** Los generos con mayor cantidad de juegos."
   ]
  },
  {
   "cell_type": "code",
   "execution_count": null,
   "id": "d215820f",
   "metadata": {},
   "outputs": [],
   "source": [
    "import pandas as pd\n",
    "from matplotlib import pyplot as plt\n",
    "import wordcloud as wc"
   ]
  },
  {
   "cell_type": "code",
   "execution_count": null,
   "id": "93f21b61",
   "metadata": {},
   "outputs": [],
   "source": [
    "archivo = pd.read_csv('vgsales.csv',encoding='utf-8')\n",
    "datos = archivo[['Publisher','Global_Sales']] # Tomo de todo el archivo las columnas que necesito segun mi criterio\n",
    "datos"
   ]
  },
  {
   "cell_type": "code",
   "execution_count": null,
   "id": "5d36c37d",
   "metadata": {},
   "outputs": [],
   "source": [
    "datos['Global_Sales'].dtype # Si los datos de la columna son de tipo float puedo implementar la funcion sum()"
   ]
  },
  {
   "cell_type": "code",
   "execution_count": null,
   "id": "afc13dfc",
   "metadata": {},
   "outputs": [],
   "source": [
    "suma_por_empresa = datos.groupby(['Publisher'])['Global_Sales'].sum()\n",
    "suma_por_empresa = suma_por_empresa.sort_values(ascending=False).head(100) # Ordeno los valores y tomo los primeros 100\n",
    "suma_por_empresa"
   ]
  },
  {
   "cell_type": "code",
   "execution_count": null,
   "id": "23340c24",
   "metadata": {},
   "outputs": [],
   "source": [
    "palabras = suma_por_empresa.index.tolist() # Llevo los indices (los nombres de las empresas) a lista\n",
    "texto = ' '.join(c.replace(' ','_') for c in palabras) # Junto en un solo string todas las palabras que quiero incluir \n",
    "# + por cada palabra con espacios, los reemplazo por un _ evitando que se \"pierdan\"\n",
    "texto"
   ]
  },
  {
   "cell_type": "code",
   "execution_count": null,
   "id": "927eca83",
   "metadata": {},
   "outputs": [],
   "source": [
    "# Las palabras siguen ordenadas por lo que las mas grandes en el wordcloud van a ser las que mas ventas tienen\n",
    "\n",
    "wordcloud = wc.WordCloud(width=400, height=300, random_state=1, background_color='white', colormap='twilight', collocations=False, stopwords=wc.STOPWORDS).generate(texto)\n",
    "\n",
    "plt.figure(figsize=(10,10))\n",
    "plt.imshow(wordcloud)\n",
    "plt.axis('off')"
   ]
  }
 ],
 "metadata": {
  "kernelspec": {
   "name": "python3",
   "display_name": "Python 3.8.8 64-bit"
  },
  "language_info": {
   "codemirror_mode": {
    "name": "ipython",
    "version": 3
   },
   "file_extension": ".py",
   "mimetype": "text/x-python",
   "name": "python",
   "nbconvert_exporter": "python",
   "pygments_lexer": "ipython3",
   "version": "3.8.8"
  },
  "interpreter": {
   "hash": "06e588f4310dd68e177552a676bbeae415abb974dc8e1b5be7df2acb338ef8c5"
  }
 },
 "nbformat": 4,
 "nbformat_minor": 5
}